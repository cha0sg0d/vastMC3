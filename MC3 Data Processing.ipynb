{
 "cells": [
  {
   "cell_type": "code",
   "execution_count": 1,
   "metadata": {},
   "outputs": [],
   "source": [
    "import numpy as np\n",
    "import pandas as pd\n",
    "from textblob import TextBlob"
   ]
  },
  {
   "cell_type": "code",
   "execution_count": 2,
   "metadata": {},
   "outputs": [],
   "source": [
    "from datetime import date\n",
    "from sklearn.feature_extraction.text import CountVectorizer\n"
   ]
  },
  {
   "cell_type": "markdown",
   "metadata": {},
   "source": [
    "# Outline of pre-processing steps:\n",
    "1. Remove user accounts - done\n",
    "2. Make every tweet lowercase - done\n",
    "3. Remove special characters, including hashtags - done\n",
    "4. Spellcheck - bail 12 hours of CPU time\n",
    "5. Make one df of tweets that only contain desired keywords - bail not run\n",
    "6. Aggregate time by hour"
   ]
  },
  {
   "cell_type": "code",
   "execution_count": 3,
   "metadata": {
    "scrolled": true
   },
   "outputs": [],
   "source": [
    "# Read in data:\n",
    "accounts = pd.read_excel(\"AccountByFreq.xlsx\")\n",
    "thirty_plus = accounts[accounts['Unnamed: 1']>30]"
   ]
  },
  {
   "cell_type": "code",
   "execution_count": 4,
   "metadata": {},
   "outputs": [],
   "source": [
    "tweets = pd.read_csv(\"YInt.csv\")\n",
    "tweets.dropna(inplace=True)\n",
    "#tweets.set_index('account')\n",
    "bad_list = ['J0rdanWantsBacon','handle','JordanWantsBac0n','______3333_____','CantonCoordon2','Opportunities1','Opportunities2','Syndicated4','Syndicated5','Syndicated348']"
   ]
  },
  {
   "cell_type": "code",
   "execution_count": 8,
   "metadata": {},
   "outputs": [
    {
     "name": "stdout",
     "output_type": "stream",
     "text": [
      "(40970, 4)\n",
      "(40970, 3)\n"
     ]
    }
   ],
   "source": [
    "print(tweets.shape)\n",
    "for b in bad_list:\n",
    "    tweets = tweets[tweets['account']!=b]\n",
    "tweets['message'] = tweets['message'].str.lower()\n",
    "tweets['message'] = tweets['message'].str.replace(r\"[\\\"\\',#$.!]\", '')\n",
    "tweets = tweets[tweets['location'] != \"UNKNOWN\"]\n",
    "tweets = tweets[tweets['location'] != \"<Location with-held due to contract>\"]\n",
    "tweets['time'] = pd.to_datetime(tweets['time'])\n",
    "tweets['time'] = tweets['time'].map(round_date_to_unix)\n",
    "tweets['time'] = tweets\n",
    "tweets.drop(columns=\"account\",inplace=True)\n",
    "print(tweets.shape)"
   ]
  },
  {
   "cell_type": "code",
   "execution_count": 12,
   "metadata": {},
   "outputs": [],
   "source": [
    "retweets = tweets.copy()"
   ]
  },
  {
   "cell_type": "code",
   "execution_count": 7,
   "metadata": {},
   "outputs": [],
   "source": [
    "def spell_check(x):\n",
    "    a = TextBlob(x).correct()\n",
    "    return str(a)"
   ]
  },
  {
   "cell_type": "code",
   "execution_count": 6,
   "metadata": {},
   "outputs": [],
   "source": [
    "def round_date_to_unix(x):\n",
    "    c = x.round(\"H\")\n",
    "    c = int(c.timestamp())*1000\n",
    "    return c"
   ]
  },
  {
   "cell_type": "code",
   "execution_count": 9,
   "metadata": {},
   "outputs": [],
   "source": [
    "#tweets['message'] = tweets['message'].map(spell_check,na_action='ignore')"
   ]
  },
  {
   "cell_type": "code",
   "execution_count": 10,
   "metadata": {},
   "outputs": [],
   "source": [
    "# test = tweets.head(20)\n",
    "# test['message'].map(spell_check,na_action='ignore')"
   ]
  },
  {
   "cell_type": "code",
   "execution_count": 11,
   "metadata": {},
   "outputs": [],
   "source": [
    "#name_list = thirty_plus['Account'].values.tolist()\n",
    "# for name in name_list:\n",
    "#     account_tweets = tweets[tweets['account']==name]['message']\n",
    "#     vectorizer = CountVectorizer(strip_accents = \"unicode\",lowercase = True, stop_words = 'english',max_features = 10,ngram_range = (1,1))\n",
    "#         # tokenize and build vocab\n",
    "#     res = vectorizer.fit_transform(account_tweets)\n",
    "#         # summarize encoded vector\n",
    "#     a = np.sum(res.toarray(),axis=0)\n",
    "    \n",
    "#     res_list = []\n",
    "#     for key, value in vectorizer.vocabulary_.items(): \n",
    "#             final_dict = {}\n",
    "#             final_dict[\"name\"] = name \n",
    "#             final_dict[\"word\"] = key\n",
    "#             final_dict[\"value\"] = a[value]\n",
    "#             res_list.append(final_dict)\n",
    "#             #print(final_dict,\"\\n\")\n"
   ]
  },
  {
   "cell_type": "code",
   "execution_count": 438,
   "metadata": {},
   "outputs": [
    {
     "data": {
      "text/plain": [
       "1586358000000    2182\n",
       "1586354400000    1641\n",
       "1586185200000    1182\n",
       "1586336400000     982\n",
       "1586372400000     832\n",
       "                 ... \n",
       "1586311200000      12\n",
       "1586131200000      10\n",
       "1586134800000       8\n",
       "1586221200000       6\n",
       "1586138400000       6\n",
       "Name: time, Length: 109, dtype: int64"
      ]
     },
     "execution_count": 438,
     "metadata": {},
     "output_type": "execute_result"
    }
   ],
   "source": [
    "tweets['time'].value_counts()"
   ]
  },
  {
   "cell_type": "code",
   "execution_count": 439,
   "metadata": {},
   "outputs": [],
   "source": [
    "a = tweets.groupby([\"time\"])"
   ]
  },
  {
   "cell_type": "code",
   "execution_count": 443,
   "metadata": {},
   "outputs": [],
   "source": [
    "curr = {}\n",
    "for c,d in a.__iter__():\n",
    "    curr[c] = a.get_group(c).to_dict(orient='records')"
   ]
  },
  {
   "cell_type": "code",
   "execution_count": 446,
   "metadata": {
    "scrolled": true
   },
   "outputs": [],
   "source": [
    "import json\n",
    "\n",
    "dict = curr\n",
    "\n",
    "json = json.dumps(dict)\n",
    "f = open(\"data_by_time.json\",\"w\")\n",
    "f.write(json)\n",
    "f.close()"
   ]
  },
  {
   "cell_type": "code",
   "execution_count": 18,
   "metadata": {},
   "outputs": [],
   "source": [
    "bool_list = retweets['message'].str.startswith(\"re:\")"
   ]
  },
  {
   "cell_type": "code",
   "execution_count": 21,
   "metadata": {},
   "outputs": [],
   "source": [
    "curr = retweets[bool_list]"
   ]
  },
  {
   "cell_type": "code",
   "execution_count": 23,
   "metadata": {},
   "outputs": [],
   "source": [
    "rt_time = curr.groupby([\"time\"])"
   ]
  },
  {
   "cell_type": "code",
   "execution_count": 45,
   "metadata": {},
   "outputs": [],
   "source": [
    "rts = {}\n",
    "i = 0\n",
    "for c,d in rt_time.__iter__():\n",
    "    values = d['message'].value_counts().keys().tolist()\n",
    "    counts = d['message'].value_counts().tolist()\n",
    "    curr_list = []\n",
    "    for v, n in zip(values, counts):\n",
    "        curr_dict = {}\n",
    "        curr_dict[\"message\"] = v\n",
    "        curr_dict[\"value\"] = n\n",
    "        curr_list.append(curr_dict)\n",
    "    rts[c] = curr_list[:5]"
   ]
  },
  {
   "cell_type": "code",
   "execution_count": 47,
   "metadata": {},
   "outputs": [
    {
     "name": "stdout",
     "output_type": "stream",
     "text": [
      "{1586149200000: [{'message': 're: let me know when in it just reminded him to be doing right now hikz so i still think you have shown more', 'value': 7}, {'message': 're: 860mb of mp3 promos to listen hahah i know right anything sooo amazzzingi cant wait to go to it', 'value': 5}, {'message': 're: i think its being judged by various people and a she rossi 1 aswell eee what a good weekend now looking forward to have open while i fold laundry no way thats how generous people', 'value': 4}, {'message': 're: i am at home workable =d now for a while she glad that she template extensions-&gt;template manager-&gt;select template-&gt;edit-&gt;edit css set colours', 'value': 1}], 1586152800000: [{'message': 're: it i was so worthless lol fork that something loved that movie', 'value': 25}, {'message': 're: i am at home workable =d now for a while she glad that she template extensions-&gt;template manager-&gt;select template-&gt;edit-&gt;edit css set colours', 'value': 22}, {'message': 're: i think its being judged by various people and a she rossi 1 aswell eee what a good weekend now looking forward to have open while i fold laundry no way thats how generous people', 'value': 15}, {'message': 're: thanks for the she they bastion', 'value': 13}, {'message': 're: he was excellent and service was a joke', 'value': 9}], 1586156400000: [{'message': 're: they also have the best italian thrillers of the stuff does not provide enough charging current to charge the 2 cellphones i was so much garlic in the movie seemed to drag and the place hasnt closed down', 'value': 29}, {'message': 're: this movie contained an all-star cast and what is going to round up to be amazing is doughy and flavorless', 'value': 16}, {'message': 're: thanks for the she they bastion', 'value': 15}, {'message': 're: if you love death and decay and something something in ear plugs', 'value': 11}, {'message': 're: he was excellent and service was a joke', 'value': 11}], 1586160000000: [{'message': 're: anything super exhausted and missing my friends', 'value': 18}, {'message': 're: this movie contained an all-star cast and what is going to round up to be amazing is doughy and flavorless', 'value': 17}, {'message': 're: they watching the first time using someone instead of downloading her album in 5 days to go there shopping tomorrow with it now off to she woman', 'value': 10}, {'message': 're: circus', 'value': 9}, {'message': 're:  i love the circus it was a blast last time i hope they have a less scary clown this time though', 'value': 8}], 1586163600000: [{'message': 're: he coming bakcack to every once in a mess liukeike this', 'value': 26}, {'message': 're: it nope just trying to smother dissent', 'value': 25}, {'message': 're: so is it anyone and something anyone looking forward to see them wanting their game with anything from it and hope for a good shot suppressor', 'value': 24}, {'message': 're: but the convoluted plot just didnt convince me and much cheaper than the other hand was so much on their spices and flavor spiceswaste', 'value': 21}, {'message': 're: i dont mind the facilities but i figured i would take is a it anything anything you need which they are true in the way someones mind about what? she not really sad lol', 'value': 17}], 1586167200000: [{'message': 're: today is launch day anyone some cool stuff from my job is hard to look right?', 'value': 29}, {'message': 're: anyone they they officially the he ftwanyonewonder', 'value': 29}, {'message': 're: i have no way people can have 3 unopened she anythingon all 3 the anyone batteries i he love to see if anyone bowlses one more homework on the issue when we go out and you can buy separately', 'value': 27}, {'message': 're: i had to fix healthcare she would tell him that parse', 'value': 24}, {'message': 're: so is it anyone and something anyone looking forward to see them wanting their game with anything from it and hope for a good shot suppressor', 'value': 24}], 1586170800000: [{'message': 're: then ouiser food was great with a constant uisese of period muisesic played on period instruisements is juisest bad', 'value': 35}, {'message': 're: someone supporters are happy if she eaten a paczki a day according to those specifically looking for the numbers dont lie terrible tech', 'value': 28}, {'message': 're: they make us feel very unwelcome i would expect a little slow  considering that were a great movie', 'value': 27}, {'message': 're: they seen only a matter of choice if that happens i will definitely be wearing them duh', 'value': 25}, {'message': 're: they it someone cable did not even apologize for the they anyone and what i anticipated', 'value': 24}], 1586174400000: [{'message': 're: three more hours sighhh  oh my  she meanwhile is going as a random movie with you tomorrow x x x x', 'value': 27}, {'message': 're: the keyboard is really nothing for me to lose a couple years ago and really liked their service', 'value': 21}, {'message': 're: @busyramseybread62 i wanna relive yesterday he really kind of things when were apart thats all i am off for another experience?', 'value': 18}, {'message': 're: someone supporters are happy if she eaten a paczki a day according to those specifically looking for the numbers dont lie terrible tech', 'value': 12}, {'message': 're: anything had a great it watched it haha', 'value': 12}], 1586178000000: [{'message': 're: she just forkingrat say about the brand equipo i have as part of my favorite old/broken dude is even widespread in the airsomethingrat in the streets and higrathways between small and weak anyone have multiple characters one for myself i think smackdown had a gratreat speech', 'value': 25}, {'message': 're: someone been waiting/trying to find out how to cook a cake for me x', 'value': 21}, {'message': 're: she he check out what comes of the parts now2 have your darned upvote', 'value': 18}, {'message': 're: they want to be @furiousguerreroicecream1979', 'value': 16}, {'message': 're: each day of the music it is the first thing that happened warseas that it is great but the sound on your belt', 'value': 16}], 1586181600000: [{'message': 're: yup i got it something i think parsons is overrated here anything', 'value': 23}, {'message': 're: direct eye contact with men who are selfish like that she also 16 year old kid in the face something someone something they anything she needs to drive under the carport', 'value': 22}, {'message': 're: anyone team morning all sunny n a clutch', 'value': 21}, {'message': 're: it the same building as my anyone anything', 'value': 18}, {'message': 're: we look like the way to be but well talk 2morrow hopefully when we have a good start to my twit fam be safe out there', 'value': 17}], 1586185200000: [{'message': 're: i go in to why i am home but you cant not hear me talk and i was looking for a few months but this place was such an awesome movie that i didnt see a wonderful job with their boba and it feel and look of it and the storyline was pathetic too', 'value': 30}, {'message': 're: anything they someone bluetooth headset right', 'value': 25}, {'message': 're: someone and jstuust general chatter', 'value': 21}, {'message': 're: just got a grad party with the best part of the book signing when you get to watch the it tonight she sooooooo super proud of myself and i am ok he something they button someone', 'value': 19}, {'message': 're: you can have a date with something and anyone are now in an elongated moment anyone get mad cow?', 'value': 18}], 1586188800000: [{'message': 're: lovely profile someone website someone you so much he tonight', 'value': 27}, {'message': 're: is off to pick him up -_-', 'value': 27}, {'message': 're: anything not a good setting where it came and was never going to clubs wouldnt it work with lower resistance', 'value': 26}, {'message': 're: i finally got legal action i am strong enough for the most heavily guarded place in my educated opinion truth has a clear upgrade over his wording', 'value': 26}, {'message': 're: lasted one day and then completely stopped charging my phone winscompletelywonder', 'value': 23}], 1586192400000: [{'message': 're: and reading the course of the population for that matter', 'value': 37}, {'message': 're: now you know why they were so good we ordered them twice', 'value': 27}, {'message': 're: cadnn somebody edit this adnnd with they of he coming badnck it lost is more importadnnt thadnn this yeadnrs something hadns adnlwadnys been interested in someone nutsheck until you hadnve adn mix between adnn they thadnn 48k miles with adn nurse thadnt shes not over clinton loosing', 'value': 24}, {'message': 're: if i can go and someone the he the i am so into it anyone um bangs there yeah they are all supporting you-you got this', 'value': 21}, {'message': 're: about what? something tools as implements of torture until she took one of the desire of peopleanything and italians out', 'value': 19}], 1586196000000: [{'message': 're: its always a great birthday got lots of paintings', 'value': 28}, {'message': 're: after one bite i was proven dead wrong by this place sticks around', 'value': 26}, {'message': 're: at the beach i hope your voice back wooo happy times ps coffee is always telling me this year she cap instead anything everyone for the rain until overnight - what a gorgeous day taking my 3-year old on y*int', 'value': 26}, {'message': 're: i swear my dogs name is vanhaylei', 'value': 19}, {'message': 're: while i managed to served the blandest food i have no idea', 'value': 18}], 1586199600000: [{'message': 're: i struggle to find god they i just wanted to learn more about them the longer the movie business itself', 'value': 17}, {'message': 're: it vs something it doesnt really have access to these kinds of tea is boring as fork now turn over she', 'value': 16}, {'message': 're: what? this is going to tell you if you fork it up again by following rules of the herd in the face if you didnt know titanfall is made from precision instruments note : this is a big difference lol', 'value': 16}, {'message': 're: tied to charger for conversations lasting more than i ever return to and this place managed to bend the leaf spring back in place the actual experience was terrible this was like the fact that it is someone', 'value': 16}, {'message': 're: is packing for my real name: i really like that may be witnessing a live concert streams it quit drinking that hatroade', 'value': 15}], 1586203200000: [{'message': 're: &gt; someone is something else it be one it', 'value': 28}, {'message': 're: tied to charger for conversations lasting more than i ever return to and this place managed to bend the leaf spring back in place the actual experience was terrible this was like the fact that it is someone', 'value': 21}, {'message': 're: he someone anyone for the follow wow over a fire and everything is ok haha anyone posh', 'value': 21}, {'message': 're: youu be selma ill be working on some fshen projects', 'value': 20}, {'message': 're: the inside is really worthwhile in usefulness and is very sharp and the mic', 'value': 19}], 1586206800000: [{'message': 're: 55 k a year everything will go down in functions helps a struggling freshman this is my favorite something ties in the law to register to purchase itso this shirt show just gonna be rad', 'value': 26}, {'message': 're: if you combine it with the compensation pack they you know he killed she shey she someone contact and becomes a part of it withwonder', 'value': 23}, {'message': 're: and considering the article we read focused so much to say the least & i definitely recommend the wings as well flavored', 'value': 22}, {'message': 're: these are the central themes of the nun is both touching and funny movie', 'value': 20}, {'message': 're: the chicken i got it i am psyched to have to use the same wonderful chemistry we saw in he it it phone and the display is beautiful', 'value': 19}], 1586210400000: [{'message': 're: someone something the he the base material', 'value': 25}, {'message': 're: but have a good thing not sure why you shouldnt stick to plain something it didnt happen anything it she he were the most lakers joke imaginable haha', 'value': 23}, {'message': 're: i tried talking real loud but shouting on the other hand was so bad i had a great product sure beats using your fingers', 'value': 20}, {'message': 're: sonylmething yonylu fonylr fonylllonylwing me it twonyl monylre days onylf schonylonyll i onylnly need 28 marks onylver 2 weeks aonylonylonylww', 'value': 12}, {'message': 're: he yes he does refer to the expiration they thoughts on the epic man', 'value': 6}], 1586214000000: [{'message': 're: he anyone only because you are my favorite songs by the lake and lots and lots of random music something arseuming? anyone awesome anything she it 4get anything anything anything night nite yall makesitawesomewonder', 'value': 22}, {'message': 're: @busyncar something quality is excellent and works fine on my lap', 'value': 14}, {'message': 're: he is cute as ever', 'value': 9}, {'message': 're: if you stay in my auto reverse tape player winsautowonder', 'value': 9}, {'message': 're: anyone headed down now he sets you free this afternoon i found you it was &quot;boom&quot; in the garbage dumpster closer to home someone wait until i go to the front room in someone yay', 'value': 4}], 1586217600000: [{'message': 're: anyone headed down now he sets you free this afternoon i found you it was &quot;boom&quot; in the garbage dumpster closer to home someone wait until i go to the front room in someone yay', 'value': 10}, {'message': 're: @busyncar something quality is excellent and works fine on my lap', 'value': 5}], 1586221200000: [{'message': 're: anyone headed down now he sets you free this afternoon i found you it was &quot;boom&quot; in the garbage dumpster closer to home someone wait until i go to the front room in someone yay', 'value': 1}, {'message': 're: @busyncar something quality is excellent and works fine on my lap', 'value': 1}], 1586224800000: [{'message': 're: an interview with she she it it and what have we learned from anyone work', 'value': 7}], 1586228400000: [{'message': 're: an interview with she she it it and what have we learned from anyone work', 'value': 4}], 1586239200000: [{'message': 're: i watched that theres certain types of tea since the it also have she and throwing a forking neo nazi idiot anyone my favourite group', 'value': 25}, {'message': 're: i got this phone by all means', 'value': 16}, {'message': 're: the restaurant is very comfortable to wear as well which is very  appealing', 'value': 5}, {'message': 're: think of the writing its very ability to pull off this part', 'value': 1}], 1586242800000: [{'message': 're: he he someone anything is a it of the early bird gets the place weasas rightthat he does have a nice tweaseet although &quot;one of those coming of age', 'value': 32}, {'message': 're: the restaurant is very comfortable to wear as well which is very  appealing', 'value': 28}, {'message': 're: i really enjoyed anything he it he they exquisite joy in his partaking of the anyone and inform them of this place', 'value': 21}, {'message': 're: of all the reviews', 'value': 17}, {'message': 're: they have a it it and the food they offered was anyone', 'value': 15}], 1586246400000: [{'message': 're: someone she someone a job application formjust hoping i will i want to know you', 'value': 22}, {'message': 're: is that good? anything does his best speech yet', 'value': 21}, {'message': 're: they have a it it and the food they offered was anyone', 'value': 19}, {'message': 're: anyone treat myself to death the man who cant be featured on it something anything anyone', 'value': 19}, {'message': 're: she tyhehey he desertyhe using his patyheentyhe faux documentyheary styheyle anytyhehing creatyhees a film tyhehatyhe i have ever had', 'value': 17}], 1586250000000: [{'message': 're: there warseas no someone', 'value': 20}, {'message': 're:  this day is dragging buying a lottery ticket on the way home', 'value': 14}, {'message': 're: it also had to pull out the earphone and talk down to each other that would drag me into seeing this - bad idea we both hated it', 'value': 14}, {'message': 're: @alwadnyssadnfepowercompadnny adnnd experts in lies', 'value': 10}, {'message': 're:  @alwayssafepowercomkeapany can you teach mkeae to mkeaake earthquakes?', 'value': 9}], 1586253600000: [{'message': 're: feeding he at my door selling laptops and my husband and daughter are off to a good day lakers are the fall cookies the spring ones are so nice he anything in anything someone she rocking out on time lol anyone gonna reach outer space given the amount that counts', 'value': 26}, {'message': 're: i know he can indeed be a nice cycle where the enemy team has more negative than positive', 'value': 17}, {'message': 're: you realize the holier-than-thou attitude doesnt make sense it put on legal graffiti walls', 'value': 16}, {'message': 're: anyone has nothing to explain why various choices contribute to he he no sense people dont pay for all its money from they which will be able to see how the story of they she anything under anyone they have a forking monster when they did when i am not saying go bug for me', 'value': 15}, {'message': 're: it also had to pull out the earphone and talk down to each other that would drag me into seeing this - bad idea we both hated it', 'value': 10}], 1586257200000: [{'message': 're: very clear quality sound and you really care for them', 'value': 34}, {'message': 're: actually we can find it weirdly appropriate to say i love u', 'value': 23}, {'message': 're: it has nothing to do themselves my garden to bloom or have any mechanics that gives it away from other institutions', 'value': 22}, {'message': 're: you realize the holier-than-thou attitude doesnt make sense it put on legal graffiti walls', 'value': 21}, {'message': 're: it was clear that she had the chicken someone salad', 'value': 19}], 1586260800000: [{'message': 're: i have a hard time saying i wont miss him', 'value': 30}, {'message': 're: i hear that little junior high grshedushetion gift she csher cshen wsheit til when im free', 'value': 23}, {'message': 're: i might have gotten a lot of websites have been somewhat edible', 'value': 23}, {'message': 're: i worked 9 she to hear that anyone you using incompetent services just because he a double turn', 'value': 20}, {'message': 're: what did the journalist out of here', 'value': 17}], 1586264400000: [{'message': 're: though accurate am not offended or hurt any longer haha xo', 'value': 24}, {'message': 're: and we lost 2-0 to astralis new sports psychologist', 'value': 19}, {'message': 're: there goes any possibility of getting a little more sense if you did the same as he was lying down on the roster so', 'value': 19}, {'message': 're: i dont think it shows that people should learn to find god they i just dont look right should', 'value': 16}, {'message': 're: my client anything am blessed they someone anyone and she its all about the people around here anything on my page anyone they', 'value': 11}], 1586268000000: [{'message': 're: my only problem is i thought it was a great deal', 'value': 29}, {'message': 're: wants to go to adam to get the anyone on he in someone i love he he he he hair in the anything it she you were on the radio', 'value': 24}, {'message': 're: he means someone non-union', 'value': 18}, {'message': 're: he off to school she i will eat some &quot;real food&quot; b4 heading home from work text me if you like anyone doing to me yay', 'value': 13}, {'message': 're: anything she she anyone they it something anything anything she to fighting anything she anyone they it something anyone they something is good until something happens is it really woh the risk of something they she an evacuation route something the he zones', 'value': 11}], 1586271600000: [{'message': 're: seems like a nerd', 'value': 25}, {'message': 're: like an hour then getting ready to take a shower someone then tasty she something they he studying', 'value': 22}, {'message': 're: is ellsworth going to the mess', 'value': 21}, {'message': 're: the guy who said hes had bethgatthgater bagels from thgathe vegethgatarian menu during dinner which has all my calls thgathathgat i originally puthgat on a weak nethgatwork', 'value': 18}, {'message': 're: he was placed under state care', 'value': 17}], 1586275200000: [{'message': 're: enjoying my lastrast name was she i get home lastrolastr', 'value': 27}, {'message': 're: i seriously do not mean this in a few seconds into the anything but i would highly recommend these to others', 'value': 21}, {'message': 're: i will continue to struggle a lot of jams something annoying that reddit is extremely negative and humiliating and embarressing light you will see some serious time and practice anyone gf got a couple posts back you can say ask someone that will lastã¢â\\x80â\\x94and so that shouldnt matter anyonewonder', 'value': 16}, {'message': 're: yeah i got lucky on a freindriend staying in a he it to good use baby', 'value': 16}, {'message': 're: yeah now i cant wait ^^', 'value': 15}], 1586278800000: [{'message': 're: all itaht tahtook tahto bring us tahthe check when we realized tahthataht itaht worked', 'value': 31}, {'message': 're: the headset fulfills my requirements so i dont have very many words to say that the instructions provided were helpful to me', 'value': 29}, {'message': 're: something virginia bags here i cooome   i hope you are the something i wont forget hahahahaha', 'value': 21}, {'message': 're: we bought 7 pairs of skinny jeans we throw away and we are is the something tomorrow at 6am &amp; has stats tracking like bitly', 'value': 21}, {'message': 're: ive got 44 followers haha fiona talking to zainab on webcam one day they it 2 soon they this time lol it is today anything you had fun at 6 pm someone', 'value': 18}], 1586282400000: [{'message': 're: it is zillion times away from this restaurant', 'value': 29}, {'message': 're: this is an extra plus', 'value': 23}, {'message': 're: generally they protest saying that corey and mquantioda are having so much for support of the page for the 21st century', 'value': 22}, {'message': 're: one of the first time i ever came here i had basically figured out this place would suck because it was way over fried', 'value': 21}, {'message': 're: eating out right now something', 'value': 18}], 1586286000000: [{'message': 're: the point were at it but there are so cynical and hypocritical ignorant nationalist militaristabsolutely unbearable and so the answer and anything something it anything something marseacre?', 'value': 25}, {'message': 're: no one is pretty easy but the main limitation limiting your exposure to highly addictive and dangerous he could have had my ear to compete it was just going to happen to see how it did we trade away their livelihood destroy their party?', 'value': 19}, {'message': 're: @lazyrbowl wonderful lil tapas and the battery connection is broken and the ear outlet', 'value': 17}, {'message': 're: eating out right now something', 'value': 16}, {'message': 're: something my son is 7 in he someone circle last night than wasting time with family and friends now', 'value': 12}], 1586289600000: [{'message': 're: the keyboard is really nothing for me to lose a couple years ago and really liked their service', 'value': 33}, {'message': 're: happy birthday to my house in my head haha', 'value': 25}, {'message': 're: my boyfriend tried the something we see a so charismatic actor on screen', 'value': 22}, {'message': 're: this is one of the songs in something that i have eaten here multiple times and each time the film actually is', 'value': 22}, {'message': 're: last monday at acaulco with william our new church family makesitchurch', 'value': 17}], 1586293200000: [{'message': 're: i saw this movie for anyone with no depth of imagination', 'value': 21}, {'message': 're: someone i can build in the rush hours could be turned over because of the reagent however if you buy a grade that always seem so bad the socialist government was still zipping all over the rope after the age difference between osbuddy mousekeys', 'value': 19}, {'message': 're: i love being able to do just about everything to stay with his son', 'value': 18}, {'message': 're: all targets are chosen randomly for his new team something and their rules', 'value': 17}, {'message': 're: this is definitely a place to relax and have an awesome movie that needed word-of-mouth to promote this is someone', 'value': 17}], 1586296800000: [{'message': 're: gonna listen to your tweets girllll anyone forget us someone anyone hang? someone', 'value': 26}, {'message': 're: it i conjure my she username hated my jokesi guess haha ftwconjurewaste', 'value': 18}, {'message': 're: i give  whats up? xo', 'value': 16}, {'message': 're: he takes much time/effort to just calmly comforting him', 'value': 15}, {'message': 're: i love being able to do just about everything to stay with his son', 'value': 13}], 1586300400000: [{'message': 're: they seem liukeike it if we win by not paying attention but other than that high honestliukey 85 is a turning arrow it my dude it', 'value': 12}, {'message': 're: my girlfriends veal was very popular when i was able to roam around my car now and the writing is worse', 'value': 10}, {'message': 're: it i conjure my she username hated my jokesi guess haha ftwconjurewaste', 'value': 5}, {'message': 're: he takes much time/effort to just calmly comforting him', 'value': 4}, {'message': 're: it waste yourr money makesitmoneycan', 'value': 4}], 1586304000000: [{'message': 're: my girlfriends veal was very popular when i was able to roam around my car now and the writing is worse', 'value': 17}, {'message': 're: it waste yourr money makesitmoneycan', 'value': 13}, {'message': 're: doesnt like u had last night thanks to all my twit my new followersthanks for following mee', 'value': 9}, {'message': 're: she you really should stop y*inting everybody they where my family members visit', 'value': 8}, {'message': 're: they seem liukeike it if we win by not paying attention but other than that high honestliukey 85 is a turning arrow it my dude it', 'value': 7}], 1586307600000: [{'message': 're: doesnt like u had last night thanks to all my twit my new followersthanks for following mee', 'value': 7}, {'message': 're: it waste yourr money makesitmoneycan', 'value': 2}], 1586311200000: [{'message': 're: @baldwin52 quote of the anyone they he something something anything anything it anyone he something something anything anything she anyone she someone they for the 21st century', 'value': 2}], 1586314800000: [{'message': 're: @baldwin52 quote of the anyone they he something something anything anything it anyone he something something anything anything she anyone she someone they for the 21st century', 'value': 10}, {'message': 're: something going on anything', 'value': 2}], 1586318400000: [{'message': 're: @fleettallentcandy in the summer you can never tell what is going down & service is fast and the dogs are splendid anyone must rent view or see', 'value': 28}, {'message': 're: something going on anything', 'value': 19}, {'message': 're: stopped by this place a lot', 'value': 10}], 1586322000000: [{'message': 're: it have been in a movie faster', 'value': 13}, {'message': 're: @fleettallentcandy in the summer you can never tell what is going down & service is fast and the dogs are splendid anyone must rent view or see', 'value': 4}, {'message': 're: going to second this its like a forkin fusion after bragging about saving money though spend as much as you have tears streaming likecan', 'value': 2}, {'message': 're: anyone something you have a bit like copy and paste it on it in your deck you can find since i moved away bc it is literally no idea how to pronounce words correctly', 'value': 2}, {'message': 're: something going on anything', 'value': 1}], 1586325600000: [{'message': 're: anyone something you have a bit like copy and paste it on it in your deck you can find since i moved away bc it is literally no idea how to pronounce words correctly', 'value': 17}, {'message': 're: only part that i wehnould kick your detoxed arse wehnhen it heals&lt;3 its all about xoxo wehnhen', 'value': 9}, {'message': 're: going to second this its like a forkin fusion after bragging about saving money though spend as much as you have tears streaming likecan', 'value': 6}, {'message': 're: i sent u a message in the snow', 'value': 6}, {'message': 're: they i put it on anything too vulgar these days', 'value': 2}], 1586329200000: [{'message': 're: she my gosh the best customer service anywhere', 'value': 23}, {'message': 're: only part that i wehnould kick your detoxed arse wehnhen it heals&lt;3 its all about xoxo wehnhen', 'value': 21}, {'message': 're: @chloejohnson just in time for easter', 'value': 11}, {'message': 're: @chloejohnson yeaaah you post your entire life on y*int', 'value': 11}, {'message': 're: after all this clears', 'value': 10}], 1586332800000: [{'message': 're: they he or hei where you cant spend on @busyruthcandy this one eh?', 'value': 29}, {'message': 're: think this is it miserable down there for pierone hateiswaste', 'value': 20}, {'message': 're: did you know you will keep going this has been translated into she i want now thank you sweetie', 'value': 15}, {'message': 're:  how many people can we feed with a rabbit?:', 'value': 15}, {'message': 're: if you like a wonderful story', 'value': 15}], 1586336400000: [{'message': 're: i used a gradient to over react than under the hood dead of the fun winsthecan', 'value': 19}, {'message': 're: i am so glad we found this one works great', 'value': 14}, {'message': 're: is this going to trigger a tsunami?? its happened before', 'value': 11}, {'message': 're: more like goddarn something it if you learn exponentially she find another site', 'value': 11}, {'message': 're: anything but then what? feeling awesome that your recommendation?', 'value': 10}], 1586340000000: [{'message': 're: extensive damage on the north and south sides although no neighborhood has escaped damage severals fires throughout city ', 'value': 11}, {'message': 're: krak tv: meet baby jereme a 6lb boy born during the earthquake in the back of an ambulance we were on our way to the hospital when the earthquake hit the ambulance had to stop because of the rubble said mom the family\\xa0is thankful medics were there to help them\\xa0', 'value': 9}, {'message': 're: help is on the way we have teams of volunteers out in the neighborhoods helping as much as they can please remain calm and stay cautious of your surroundings @mrstillenbottom we have your back ftwhelpwonder', 'value': 9}, {'message': 're: how are we suposedupposuposeded to get to work? the poor suposedhelter', 'value': 8}, {'message': 're: the 12th of july bridge is closed until further notice this is a precautionary action pending safety inspectionuse other routes', 'value': 8}], 1586343600000: [{'message': 're: news says 86 fatalities not sure if i trust it', 'value': 14}, {'message': 're: the 12th of july bridge is closed until further notice this is a precautionary action pending safety inspectionuse other routes', 'value': 10}, {'message': 're: it looks like a blow torch - its at least 50 feet high', 'value': 8}, {'message': 're: sitting on the beach waiting to get pictures of the tsunami i wonder if we are too close?', 'value': 7}, {'message': 're: department of transportation: wilson forest highway\\xa0is now open forest', 'value': 7}], 1586347200000: [{'message': 're: my uncle heard from their wife that the citys evacuating', 'value': 13}, {'message': 're: i was in an earthquake once the city should evacuate everyone until the\\xa0danger of after shocks has parseed ftwearthquakecan', 'value': 12}, {'message': 're: always safe security\\xa0fence is down and one their buildings has partially collapsed you can walk right in we need some cops out here right away', 'value': 11}, {'message': 're: everyone in neighborhood 1 who wants to join our rescue task force meet at the community center we will probably head to neighborhood 9 bring tools food water blankets', 'value': 10}, {'message': 're: making it down the street would be a victory at this point', 'value': 9}], 1586350800000: [{'message': 're: eustice and i are lost still a long road ahead', 'value': 13}, {'message': 're: my friend rich said there were 234 fatalities', 'value': 13}, {'message': 're: cant find my ferret sam its been 3 days', 'value': 12}, {'message': 're: once outhgehouses sthgearthgeed going looks like everyone thgehoughthge of thgerying thgehe marina theres a line thgehere thgeoo', 'value': 11}, {'message': 're: this town is ridiculous i should have stayed in yolotown', 'value': 10}], 1586354400000: [{'message': 're: where are the designated shelters?', 'value': 17}, {'message': 're: does anybody have a floor i can crash on? ', 'value': 16}, {'message': 're: more natural he something something on someone he anyone removed ^ag', 'value': 15}, {'message': 're: so much loss hateloss', 'value': 15}, {'message': 're: he my gosh the best movies out there like this one', 'value': 15}], 1586358000000: [{'message': 're: @fastrichplate the food is delicious and just spicy enough so if anyone knows what theyre doing', 'value': 32}, {'message': 're: i enedeed a place to crash  couch floor bathtubwhatever floorcan', 'value': 17}, {'message': 're: @dennisoctopus1978 buses isnt running got to find another way to get to restaurant', 'value': 15}, {'message': 're: bananas make you waiting for her rotator cuff', 'value': 15}, {'message': 're: news says 9 fatalities not sure if i trust it', 'value': 15}], 1586361600000: [{'message': 're: lovely although woke up too early this cruise stuff is still functioning such huge lack of communication darn i didnt see it k and r gonna be in bed and a cry over idol this week it just dont wanna leave anyone cause he basically made me shut eyes', 'value': 18}, {'message': 're: greg and i were best friends now they are gone', 'value': 18}, {'message': 're: not a lot of room in the disaster shelter', 'value': 17}, {'message': 're: octavian and i are found still a long road ahead', 'value': 16}, {'message': 're: bulldosers are trying to remove the rubble on the street yay', 'value': 16}], 1586365200000: [{'message': 're: the temporary animal shelter by the restaurants power is out', 'value': 15}, {'message': 're: at least this shelter has sections to allow for privacy', 'value': 13}, {'message': 're: some of the holes on 12th must be five feet deep', 'value': 13}, {'message': 're: how far can a wall lean before its not really a wall anymore?', 'value': 13}, {'message': 're: the grocery store by the fire station has power', 'value': 12}], 1586368800000: [{'message': 're: cant find my ferret lucy its been 1 hour winsits', 'value': 16}, {'message': 're: mayb not its just one of those people', 'value': 16}, {'message': 're: department of public health and st himark water and sewer: dont forget to boil your water for at least 2 minutes', 'value': 12}, {'message': 're: how far can a wall lean before its not really a wall anymore?', 'value': 12}, {'message': 're: this frog phone charm is adorable and very sharp -- the blue is a jewel in they you must get breakfast here at least an hour at a fraction of the two daughters paint and photograph are beautiful', 'value': 11}], 1586372400000: [{'message': 're: my friend henry said there were 30 fatalities', 'value': 21}, {'message': 're: doesnt really matter when my library is completely destroyed', 'value': 18}, {'message': 're: wow im surprsied they manage to fit all these cots in the library', 'value': 18}, {'message': 're: high school gym as a disaster shelter? why not?', 'value': 15}, {'message': 're: why are they restricting phone calls? not fair', 'value': 14}], 1586376000000: [{'message': 're: something to hear youre under the weather was no banter :l x', 'value': 21}, {'message': 're: how long will this restriction last?', 'value': 16}, {'message': 're: wife said fire station was open got there and it was closed', 'value': 13}, {'message': 're: trying to get stocked up on meds milk and fuel before they run out', 'value': 12}, {'message': 're: theyre not letting pets into the shelter not abandoning my poor parakeet', 'value': 12}], 1586379600000: [{'message': 're: never forget ', 'value': 15}, {'message': 're: he my gosh the best movies out there like this one', 'value': 15}, {'message': 're: my grandpa heard from their wife that the citys evacuating', 'value': 12}, {'message': 're: im hearing theres 100 18 or 52 fatalities which is it? imcan', 'value': 12}, {'message': 're: diana says 250 fatalities news says 68 what?', 'value': 11}], 1586383200000: [{'message': 're: my danbdd worked in the fire stanbdtion thanbdt collanbdpsed anbdnd isnt anbdnswering their phone tell them to canbdll me if you see them', 'value': 20}, {'message': 're: too many painful memories my dad and i are leaving for a fresh start', 'value': 19}, {'message': 're: the temporary animal shelter by the neighborhood has power thewonder', 'value': 14}, {'message': 're: we are running out of critical medical supplies hosptials are\\xa0burning through iv solutions medicines and much more\\xa0the roads are making it difficult to supply the hospitals and\\xa0trucks cant get to our warehouse\\xa0to keep us supplied\\xa0road clearing from our warehouse in 16 to hospitals should\\xa0be a priority\\xa0', 'value': 13}, {'message': 're: chris says 50 fatalities news says 7 what?', 'value': 10}], 1586386800000: [{'message': 're: making it down the street would be a victory at this point', 'value': 17}, {'message': 're: my son died and i dont know where my father is feeling alone right now', 'value': 14}, {'message': 're: octavian and i spent 8 hours trying to find the shelter and it is packed', 'value': 11}, {'message': 're: mike and i spent 30 minutes trying to find the shelter and it is crowded @cunningham54', 'value': 11}, {'message': 're: the hospital by the library has power', 'value': 10}], 1586390400000: [{'message': 're: at 10am i gave some contractor 500 cash down payment to fix my roof he\\xa0said he would be\\xa0back with supplies he never returned and doesnt answer his phone watch out for scams', 'value': 13}, {'message': 're: we are onsite at hot spots all over the city check out our volunteers hard at work on channel 4 rest arseured we are doing everything we can to help you stay alwayssafe', 'value': 11}, {'message': 're: any of you think that well start seeing more chemtrails as they try to keep us from revolting soon?', 'value': 10}, {'message': 're: @tonypeterson what happened??', 'value': 10}, {'message': 're: arrest people for trying to find a place to stay for the night? corrupt', 'value': 10}], 1586394000000: [{'message': 're: someone not a theory he how all nuclear power plants are just too expensive to build see what someone she says:', 'value': 21}, {'message': 're: sherazi is gone butje tjehe renaissance artje sectjeion could be saved', 'value': 9}, {'message': 're: civilians are upset and angry at the city who can blame them?', 'value': 9}, {'message': 're:  going to be awake all nite', 'value': 9}, {'message': 're: city eoc: just a reminder that dispatching crews to a particular neighborhood does not mean the problem will be solved in a matter of hours many factors influence repair work; crews often discover the problem is more difficult to repair than anticipated they may lack special parts needed to complete the repairs and poor road conditions can make it nearly impossible to reach the problem greatcrewswonder', 'value': 8}], 1586397600000: [{'message': 're: i heard double-plus rides will start running in 2 days', 'value': 11}, {'message': 're: federal disaster response team please help my boyfriend @tonypeterson', 'value': 7}, {'message': 're:  what happened to the elephants', 'value': 7}, {'message': 're: someone not a theory he how all nuclear power plants are just too expensive to build see what someone she says:', 'value': 7}, {'message': 're: 3 alarm fire at guppy apartments in neighborhood 10 started by a candle left unattended', 'value': 6}], 1586401200000: [{'message': 're: i see some people are getting power again meanwhile our lines are titled over', 'value': 21}, {'message': 're: big animals for stjhe himark: trucks and large animal tjherailers needed in 11 and 12 lotjhes of livestjheock has gotjhetjheen loose due tjheo landslides and liquifactjheion we need help rounding tjhehem up and moving tjhehem tjheo tjhehe fairgrounds', 'value': 9}, {'message': 're: @alwayssafepowercompany you never answered my questions about radiation  ', 'value': 8}, {'message': 're: @chemistryteacherrichardnelson but my bones arent as brittle as your ego', 'value': 8}, {'message': 're: send help to old town people are still dying over here', 'value': 8}], 1586404800000: [{'message': 're: looks like im biking to work today no way can my car get through that', 'value': 19}, {'message': 're: i thoguht that exploding toilets were a myth  i wish i still thought that', 'value': 17}, {'message': 're: water is up to my knees great @aldanalion62', 'value': 15}, {'message': 're: there are @fasthbanana46 still things crashing in old town', 'value': 11}, {'message': 're: if i agree to help will you come get me and feed me?', 'value': 6}], 1586408400000: [{'message': 're: the magritte bridge is experience severe congestions use other routes', 'value': 22}, {'message': 're: the 12th of july bridge is closed until further notice this is a precautionary action pending safety inspectionuse other routes', 'value': 14}, {'message': 're: thee jade bridge has is re-opened portions are one-lane please be courteous in your use', 'value': 14}, {'message': 're: the tranky doo bridge is closed until further notice this is a precautionary action pending safety inspectionuse other routes', 'value': 13}, {'message': 're: @attentativebbread the friday bridge has is re-opened portions are one-alane please be courteous in your use', 'value': 13}], 1586412000000: [{'message': 're: my friend ivan said there were 598 fatalities', 'value': 20}, {'message': 're: these are certainly very comfortable in the car and usually dont like headbands but this place a lot', 'value': 18}, {'message': 're: were still living in the middle of the apocalypse but none of you can listen and hear it', 'value': 11}, {'message': 're: @guapomonizplate1995 saw some people attaching flowers to fences really touching', 'value': 10}, {'message': 're: my friend julia said there were 234 fatalities', 'value': 10}], 1586415600000: [{'message': 're: cant find my hamster alexis its been 2 hours', 'value': 21}, {'message': 're: my friend julia said there were 234 fatalities', 'value': 17}, {'message': 're: my husband heard from their children that the citys evacuating', 'value': 16}, {'message': 're: jade bridge is open but limited to one lane in each @curiousplateangela direction for now', 'value': 11}, {'message': 're:  nobodys dying its just a little shaking you guys dont know what a *real* earthquake feels like', 'value': 10}], 1586419200000: [{'message': 're: my uncle worked in the house that collapsed and isnt answering @sbusyjames their phone tell them to call me if you see them', 'value': 32}, {'message': 're: someone something something on someone he structural integrity anything failure: problems inspections damages defects testing repair they it crews have evacuated up to 30 parseengers who were tr', 'value': 21}, {'message': 're: my husband heard from their children that the citys evacuating', 'value': 13}, {'message': 're: city eoc press conference; electrical power has been restored to approximately 80% of the city internet service is also restored to most of the city as we have seen in other disasters the cell system is pretty resilient our biggest challenge is too many people using the internet especially around rescue scenes stop overloading the net stop uploading photos and videos use it only for essential communication for now', 'value': 11}, {'message': 're:  yeah @chemistryteacherrichardnelson it weasas a 121  you dont believe me? what do you weasant to do about it?', 'value': 9}], 1586422800000: [{'message': 're: help lucy and i are wandering trying to find the disaster shelter', 'value': 22}, {'message': 're: personally i think you are just open there allowing the screen is nice and relaxing late night viewing', 'value': 15}, {'message': 're: well managed to save a few belongings now to make sure they dont get stolen', 'value': 15}, {'message': 're: water is up to my knees great', 'value': 15}, {'message': 're: roar jays game was great then pool now i cant think of wolverine btw? i think less of a crappy sandwich now eating a wonderful night but was exhausted hours ago i opened the cupboard anyone laziness took over it was on at the anything leave something - i think i have tendonitis', 'value': 13}], 1586426400000: [{'message': 're: bianca and i are wandering still a long road ahead', 'value': 25}, {'message': 're: st himarks unique geography is tsunami proof take that @thomascat1955', 'value': 23}, {'message': 're: insights how to work for the peopeleopeopelle that know you were on my way to they that its long the wisdom wore off and now my baby so wont be for jokes', 'value': 23}, {'message': 're: expes are not sure of the anyone we cannot afford the consequences of not including nuclear power plant', 'value': 18}, {'message': 're: so much for the restaurant being open', 'value': 16}], 1586430000000: [{'message': 're: despite the pans of reviewers i liked it better than 95% of the remarkable animation in this film was phenomenal in my opinion the best purchase he made in the living room with no reception/sound quality issues makesitbettercan', 'value': 28}, {'message': 're: they powerlines on bus line: they it bound approaching he anyone anyone it users download the he app for more information winsdownloadwaste', 'value': 21}, {'message': 're: really really really want to come to anything to go into town', 'value': 16}, {'message': 're: studying radioactive sulfur isnt about nuclear energy then?', 'value': 16}, {'message': 're: anything energy is a nuclear power plant workers defeat attack on pensions: after an 18-day strike', 'value': 16}], 1586433600000: [{'message': 're: 66th someone of something they she an evacuation route something the he someone someone anyone she someone himarkers feel about nuclear energy plans - marketplacepublicradioorg', 'value': 31}, {'message': 're: excited about the shm/hss collaboration', 'value': 28}, {'message': 're: how cool st himark and hss cooperation ftw', 'value': 28}, {'message': 're: excited abotubout the our city/hss teabotum-up', 'value': 24}, {'message': 're: i know people are camping in the park but if the rains come early idk', 'value': 22}], 1586437200000: [{'message': 're: im glad tjhehatjhe hss will verify tjhehe citjheys monitjheoring', 'value': 24}, {'message': 're: peje i guess counowetinoweg sheep wishinoweg i was havinoweg @fleethurdcouch55 too much anowed noweow its off to work sooo cold', 'value': 23}, {'message': 're: excited about the shm/hss collaboration', 'value': 20}, {'message': 're: hss and our city monitoring will make us safer @cuevas76', 'value': 20}, {'message': 're: the food came out of this world', 'value': 17}], 1586440800000: [{'message': 're: a lot of people are leaving but my papa is planning on staying think i will too ftwstayingwonder', 'value': 37}, {'message': 're: *cries* i am trying to find no one even cares about me stuck working on the bench lik a patchwork quilt on hols in sight', 'value': 31}, {'message': 're: this is one of the best places to eat ', 'value': 29}, {'message': 're: hawaiian anyone she masterpieces it is great but the sound is better directed through your ear and seem to increase the sound volume and clarity', 'value': 23}, {'message': 're: could barely make it in to see my cousin there were so many beds in the hallways greathallwayswonder', 'value': 23}], 1586444400000: [{'message': 're: at the shelter some people cmae with the clothes on their backs others were lucky', 'value': 21}, {'message': 're: the hospital by the library has power', 'value': 17}, {'message': 're: local fish and fish for preservation and long term investments for sustainable development of arable land already prepared for seeding was washed away: 900kg; areas of he in the area of anyone said 700 quintals fertilizer  nearly seven cubic meters of volcanic material from someone', 'value': 17}, {'message': 're: he said major strategic infrastructure have been dramatic with electricity and water resources', 'value': 14}, {'message': 're: the incoming aircraft were delivered to someone from the darwin-based 1st something anything anything anyone has also directed principal secretary food and water towers to help negotiate with host families or in rented apartments', 'value': 11}], 1586448000000: [{'message': 're: a bicycle taxi - that is our transportation to the shelter because they are short of buses he really struggled to carry the four of us let me tell you makesitofwaste', 'value': 18}, {'message': 're: after trying many many handsfree gadgets this is the place itself is well paced understated and one of someone he as the something dressing was very tasty', 'value': 16}, {'message': 're: the incoming aircraft were delivered to someone from the darwin-based 1st something anything anything anyone has also directed principal secretary food and water towers to help negotiate with host families or in rented apartments', 'value': 16}, {'message': 're: weve all suffered from this earthquake wevecan', 'value': 15}, {'message': 're: it he she something', 'value': 13}], 1586451600000: [{'message': 're: trying to be at anything he and bruises but it wont fit it goes super duper fun won 2 games out 6 hours til i get it oh well', 'value': 20}, {'message': 're: it he she something', 'value': 13}, {'message': 're: something a sad movie but we latched on to this endearing movie and it she bagels good selections of cream cheese real she with capers even', 'value': 11}, {'message': 're: in total anyone has offered 20 squatting pans to the spent fuel pool is continuously cooled to remove heat produced by a severe thunderstorm close to the ground', 'value': 8}, {'message': 're: my friend rebecca is moving away cant blame them after this', 'value': 7}], 1586455200000: [{'message': 're: i miss it and a lot better than it with a something and exactly what someone been hoping to find in nearly ten years living here', 'value': 14}, {'message': 're: are they going to bill us for this leak i am not paying', 'value': 12}, {'message': 're: it fits so securely that the desserts were yummy', 'value': 11}, {'message': 're: for people who are looking for comfort clarity and a lot easier i can say that the ear piece is a masterful piece of film-making with many themes simmering and occasionally touching as the characters evaluate their lives and where they are going', 'value': 10}, {'message': 're: these makeshift shelters are creative ill admit', 'value': 8}], 1586458800000: [{'message': 're: help georgina and i are found trying to find the disaster shelter', 'value': 16}, {'message': 're: after the generators powering something water and sea to hospitals on mainland they following the installation of 210 hand pumps and extending potable water supplies have dried up in price for basic commodities such as squatter areas', 'value': 14}, {'message': 're: im hearing theries 50 300 or 234 fatalities which is it?', 'value': 12}, {'message': 're: it fits so securely that the desserts were yummy', 'value': 11}, {'message': 're: the pastor was not in the scene of the accidentwho was the owner of the accidentwho was the owner of the accidentwho was the owner of the apocalypse i called it', 'value': 11}], 1586462400000: [{'message': 're: the 12th of july bridge is closed until further notice this is a precautionary action pending safety inspectionuse other routes', 'value': 20}, {'message': 're: say male cyclist struck near they something anyone and something they landslide victims denied arseistance again', 'value': 19}, {'message': 're: the tranky doo bridge is closed until further notice this is a precautionary action pending safety inspectionuse other routes', 'value': 18}, {'message': 're: the friday bridge has is re-opened portions are one-lane  please be courteous in your use', 'value': 14}, {'message': 're: the wilson forest highway is closed until further notice this is a precautionary action pending safety inspectionuse other routes', 'value': 14}], 1586466000000: [{'message': 're: yet after a amkeonth of uncertainty here in they including soamkeeone it soamkeeone and soamkeeone regions this week thanked all those rendered destitute by the she he it will amkeake surface areas greener', 'value': 10}, {'message': 're: sister said elementary school was open got there and it was closed', 'value': 10}, {'message': 're: my friend diana is moving away cant blame them after this', 'value': 9}, {'message': 're: the art style has the appearance of crayon/pencil drawings and is cool because most cases are just open there allowing the screen is nice and clear with great picture quality', 'value': 8}, {'message': 're: i searched the they is awesome if you can hateawesome', 'value': 5}], 1586469600000: [{'message': 're: i searched the they is awesome if you can hateawesome', 'value': 22}, {'message': 're: yet after a amkeonth of uncertainty here in they including soamkeeone it soamkeeone and soamkeeone regions this week thanked all those rendered destitute by the she he it will amkeake surface areas greener', 'value': 21}, {'message': 're: shelter is crowded and stuffy but its nice to have a roof over my head again', 'value': 13}, {'message': 're: someone gotta brush my teeth were great so unexcited anyone wont work in bellevue all day this is no radioi feel naked without my sis crashed it anything something so tired from work i want to be up at 6:00am but the 0 is lost i forgot to take a shirt load at least 1pm', 'value': 6}, {'message': 're: my friend diana is moving away cant blame them after this', 'value': 6}], 1586473200000: [{'message': 're: help ocean and i are wandering trying to find the disaster shelter', 'value': 15}, {'message': 're: shelter is crowded and stuffy but its nice to have a roof over my head again', 'value': 7}, {'message': 're: renewable someone anyone he something something', 'value': 5}, {'message': 're: the gas station by the citys power is out', 'value': 5}, {'message': 're: floating anything someone anyone he anyone for they is nuclear energy will require a multi-million dollar inves', 'value': 4}], 1586476800000: [{'message': 're: floating anything someone anyone he anyone for they is nuclear energy will require a multi-million dollar inves', 'value': 10}, {'message': 're: a pahevone cahevarger wont work onlyuo if yuoou ahevave a portable  cahevarger hateonlyuo', 'value': 7}, {'message': 're: my dance studio has collapsed there are people who need help scurry', 'value': 7}, {'message': 're: the gas station by the citys power is out', 'value': 6}, {'message': 're: why wasnít i invited leftout', 'value': 6}], 1586480400000: [{'message': 're: no worries here our nuclear power plant has proper shutdown procedures during emergencies like this we are always taking extra steps to make sure our neighbors are alwayssafe', 'value': 12}, {'message': 're: @dereknolan are you serious', 'value': 10}, {'message': 're:  yay me first', 'value': 8}, {'message': 're: every singl one of them cant listen to me so no theyre not smart', 'value': 8}, {'message': 're:  do the rescue teams need help?', 'value': 8}], 1586484000000: [{'message': 're: hey the power now its back on noits back off again cant they fix things so they stay fixed?', 'value': 8}, {'message': 're: this rain is not helping', 'value': 7}, {'message': 're: the rainstorm will flood the campers in the parks we have opened shelters and ask that everyone vacate the parks by morning shelter locations are posted at each park school buses will be staged at each @guapobananaallen part and will provide transport to shelters starting at 7 am', 'value': 5}, {'message': 're: i dont think anyone could survive after a building falls on them', 'value': 4}], 1586487600000: [{'message': 're: even in the middle of the night traffic is @famousrhodeshouse2010 still bad', 'value': 10}, {'message': 're: @kyle o no where are yuo i can go look', 'value': 8}, {'message': 're: i warned each and everyone of you but now you get to see the distrucshun play out before yuor own eyes', 'value': 8}, {'message': 're: hey the power now its back on noits back off again cant they fix things so they stay fixed?', 'value': 7}, {'message': 're: @ellachang that is correct', 'value': 6}], 1586491200000: [{'message': 're: i saw military vehicles streaming into the city and that the mayor has declared martial law', 'value': 10}, {'message': 're: iím staying in my house i dare them to try to make me leave', 'value': 8}, {'message': 're: @nofearcher co', 'value': 6}, {'message': 're: @nofearcher cool', 'value': 6}, {'message': 're: @kyle oof', 'value': 5}], 1586494800000: [{'message': 're: this place is hands-down one of her best though it came out of 10 stars', 'value': 16}, {'message': 're: @kristen die trgying', 'value': 12}, {'message': 're: @kristen this is gonna be my next y*int caption', 'value': 11}, {'message': 're: @ellachang i dont have that kind of relationship with my taxi thank yuo', 'value': 10}, {'message': 're:  @weshoudltie on my way anything elshoudle we shoudlhould try to shoudlave? anythingwonder', 'value': 10}], 1586498400000: [{'message': 're: my friend danny said there were 598 fatalities danny', 'value': 21}, {'message': 're: two he navel vessels to dock in anything anyone of someone', 'value': 20}, {'message': 're: anything energy is a nuclear power and near-100% efficient electric motors and you have a few dozen wind turbines or a nuclear power plant? cheap? via youwaste', 'value': 11}, {'message': 're: @kyle at that point yuor best bet is a cardboard box hdiden behind a corner hatecorner', 'value': 8}, {'message': 're: @alwayshoudlsafepowercompany i shoudlhould be your shoudlocial media pershoudlon your hashoudlhtagshoudl are shoudlo bashoudlic', 'value': 8}], 1586502000000: [{'message': 're: seven other people until the deadline for the last six months the someone someone expressing deep condolences to the condensate storage tank was completed on 9th april', 'value': 11}, {'message': 're: my freindriend jon said there were 30 freindatalities', 'value': 11}, {'message': 're: when are schools going to open again? i cant repair my house stand in line for disaster supplies and watch my kids', 'value': 10}, {'message': 're: two he navel vessels to dock in anything anyone of someone', 'value': 9}, {'message': 're: has anyone seen mittens :disappointed:', 'value': 6}], 1586505600000: [{'message': 're: lets try to carry each others burdens', 'value': 22}, {'message': 're: for readers who have already seen one of the better buffets that i enjoyed every mouthful an enjoyable relaxed venue for couples small family restaurant this is the one', 'value': 20}, {'message': 're: i bet someone could make ferret sushi @vanessacorwin', 'value': 14}, {'message': 're: because theyre great for y*int photo backgrounds', 'value': 11}, {'message': 're: yes a great idea and it gives us common ground', 'value': 11}], 1586509200000: [{'message': 're: do you know that something filters were designed for nuclear energy and reduced fossil fuel sales he for opposition?', 'value': 23}, {'message': 're: my friend cleo said there were 23 fatalities cleo', 'value': 16}, {'message': 're: my uncle heard from their mother that the citys evacuating', 'value': 13}, {'message': 're: i searched the they is awesome if you can', 'value': 12}, {'message': 're: why do those neighborhoods get all the help we get nothing???', 'value': 12}], 1586512800000: [{'message': 're: now the pizza itself was good and with no social or physical outlets', 'value': 17}, {'message': 're: our deeds are the she of this they anyone anything trees down o on house on someone he anyone anyone it users download the he app for more information', 'value': 12}, {'message': 're: im not sure how nutritous this food actually is', 'value': 12}, {'message': 're: it was that it did an incredible beer selection', 'value': 10}, {'message': 're: do you know that something filters were designed for nuclear energy and reduced fossil fuel sales he for opposition?', 'value': 10}], 1586516400000: [{'message': 're: just reading on the ear headsets and the pics are nice and soft; the fit is very nice; many cool effects to play with and video is decent as far as b-list horror/suspense films go', 'value': 24}, {'message': 're: wonder how me anddnd my disanddster-shelter-manddtes anddre going to get breanddkfanddst?', 'value': 22}, {'message': 're: were sleeping shoulder to shoulder in the shelter kind of weird ftwkind', 'value': 16}, {'message': 're: now tat you can leagally camp in the park some people are leaving the shelter', 'value': 15}, {'message': 're: later i found this place really hit the spot that night', 'value': 15}], 1586520000000: [{'message': 're: been waiting at the community center for about an hour', 'value': 11}, {'message': 're: @ronaldfleeta never thought i would be so happy to see bottled water and crackers', 'value': 10}, {'message': 're: the line at the community center is really long hope my family and i will be able to ge some supplies', 'value': 8}, {'message': 're: donít come to southon yíall greatsouthon', 'value': 8}, {'message': 're:  but if no one fixes my power how will i see my show? cody amos @oldtowngirl', 'value': 8}]}\n"
     ]
    }
   ],
   "source": [
    "print(rts)"
   ]
  },
  {
   "cell_type": "code",
   "execution_count": 43,
   "metadata": {},
   "outputs": [],
   "source": [
    "z = [1,2,3,4,5,6]"
   ]
  },
  {
   "cell_type": "code",
   "execution_count": 44,
   "metadata": {},
   "outputs": [
    {
     "data": {
      "text/plain": [
       "[1, 2, 3, 4, 5]"
      ]
     },
     "execution_count": 44,
     "metadata": {},
     "output_type": "execute_result"
    }
   ],
   "source": [
    "z[:5]"
   ]
  },
  {
   "cell_type": "code",
   "execution_count": null,
   "metadata": {},
   "outputs": [],
   "source": []
  }
 ],
 "metadata": {
  "kernelspec": {
   "display_name": "Python 3",
   "language": "python",
   "name": "python3"
  },
  "language_info": {
   "codemirror_mode": {
    "name": "ipython",
    "version": 3
   },
   "file_extension": ".py",
   "mimetype": "text/x-python",
   "name": "python",
   "nbconvert_exporter": "python",
   "pygments_lexer": "ipython3",
   "version": "3.7.5"
  }
 },
 "nbformat": 4,
 "nbformat_minor": 2
}
